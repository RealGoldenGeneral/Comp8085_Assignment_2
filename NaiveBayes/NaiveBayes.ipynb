{
 "cells": [
  {
   "cell_type": "code",
   "execution_count": null,
   "id": "ee29031f-c3f0-4c29-9d38-b147945794f8",
   "metadata": {},
   "outputs": [],
   "source": []
  }
 ],
 "metadata": {
  "kernelspec": {
   "display_name": "",
   "name": ""
  },
  "language_info": {
   "name": ""
  }
 },
 "nbformat": 4,
 "nbformat_minor": 5
}
